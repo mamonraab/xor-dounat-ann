{
 "cells": [
  {
   "cell_type": "code",
   "execution_count": 1,
   "metadata": {
    "collapsed": false
   },
   "outputs": [],
   "source": [
    "import numpy as np\n",
    "import matplotlib.pyplot as plt\n",
    "from mamonAnn import mamonAnn , catgoricl , normalize , cost"
   ]
  },
  {
   "cell_type": "code",
   "execution_count": 2,
   "metadata": {
    "collapsed": false
   },
   "outputs": [
    {
     "name": "stdout",
     "output_type": "stream",
     "text": [
      "(4, 2)\n",
      "(4,)\n"
     ]
    }
   ],
   "source": [
    "X = np.array([[0, 0], [0, 1], [1, 0], [1, 1]])\n",
    "Y = np.array([0, 1, 1, 0])\n",
    "print X.shape\n",
    "print Y.shape"
   ]
  },
  {
   "cell_type": "code",
   "execution_count": 3,
   "metadata": {
    "collapsed": false
   },
   "outputs": [],
   "source": [
    "deep = mamonAnn()\n",
    "LL = []\n",
    "deep.Layers(2 ,  [5,4] , 1)"
   ]
  },
  {
   "cell_type": "code",
   "execution_count": 4,
   "metadata": {
    "collapsed": false
   },
   "outputs": [
    {
     "name": "stdout",
     "output_type": "stream",
     "text": [
      "-11.0904221948\n",
      "-11.0904238112\n",
      "-11.0904254549\n",
      "-11.0904271263\n",
      "-11.0904288256\n",
      "-11.0904305514\n",
      "-11.0904323057\n",
      "-11.090434089\n",
      "-11.0904359016\n",
      "-11.0904377436\n",
      "-11.0904396156\n",
      "-11.0904415177\n",
      "-11.0904434504\n",
      "-11.090445414\n",
      "-11.0904474088\n",
      "-11.0904494352\n",
      "-11.0904514937\n",
      "-11.0904535846\n",
      "-11.0904557083\n",
      "-11.0904578652\n",
      "-11.0904600557\n",
      "-11.0904622804\n",
      "-11.0904645397\n",
      "-11.0904668339\n",
      "-11.0904691637\n",
      "-11.0904715295\n",
      "-11.0904739319\n",
      "-11.0904763713\n",
      "-11.0904788482\n",
      "-11.0904813634\n",
      "-11.0904839173\n",
      "-11.0904865105\n",
      "-11.0904891437\n",
      "-11.0904918174\n",
      "-11.0904945323\n",
      "-11.0904972892\n",
      "-11.0905000886\n",
      "-11.0905029312\n",
      "-11.0905058179\n",
      "-11.0905087493\n",
      "final classification rate: 0.5\n"
     ]
    },
    {
     "data": {
      "image/png": "[encoded data removed]",
      "text/plain": [
       "<matplotlib.figure.Figure at 0x7f2ed08e6dd0>"
      ]
     },
     "metadata": {},
     "output_type": "display_data"
    }
   ],
   "source": [
    "deep.fit(X,Y , 2000 , 50 ,  0.0004,1 , 0,'relu', 'relu' ,'sigmoid' , LL,0 )\n",
    "\n",
    "plt.plot(LL)\n",
    "print \"final classification rate:\", np.mean(deep.out.round() == Y)\n",
    "\n",
    "plt.show()"
   ]
  },
  {
   "cell_type": "code",
   "execution_count": null,
   "metadata": {
    "collapsed": false
   },
   "outputs": [],
   "source": [
    "deep.out.round()\n"
   ]
  },
  {
   "cell_type": "markdown",
   "metadata": {},
   "source": [
    "# very importent to note the  weight equtions  changes to know how to calculate them in good way coz here we only have one output\n",
    "\n",
    "\n",
    "  S_Y = (Y - pY) \n",
    "  \n",
    "    W2 += learning_rate* (S_Y.dot(Z) - regularization * W2)\n",
    "    \n",
    "    b2 += learning_rate* (S_Y.sum() - regularization * b2)\n",
    "    \n",
    "    dZ = np.outer(S_Y,W2) *  (1 - Z * Z) # Z * (1 - Z)\n",
    "    \n",
    "    W1 += learning_rate* ( X.T.dot(dZ) - regularization * W1)\n",
    "    \n",
    "    b1 += learning_rate* ( dZ.sum()  - regularization * b1)\n",
    "    "
   ]
  },
  {
   "cell_type": "code",
   "execution_count": null,
   "metadata": {
    "collapsed": false
   },
   "outputs": [],
   "source": []
  },
  {
   "cell_type": "code",
   "execution_count": 5,
   "metadata": {
    "collapsed": false
   },
   "outputs": [
    {
     "name": "stdout",
     "output_type": "stream",
     "text": [
      "(1000, 2)\n",
      "(1000,)\n"
     ]
    }
   ],
   "source": [
    " # donut example\n",
    "N = 1000\n",
    "R_inner = 5\n",
    "R_outer = 10\n",
    "\n",
    "# distance from origin is radius + random normal\n",
    "# angle theta is uniformly distributed between (0, 2pi)\n",
    "R1 = np.random.randn(N/2) + R_inner\n",
    "theta = 2*np.pi*np.random.random(N/2)\n",
    "X_inner = np.concatenate([[R1 * np.cos(theta)], [R1 * np.sin(theta)]]).T\n",
    "\n",
    "R2 = np.random.randn(N/2) + R_outer\n",
    "theta = 2*np.pi*np.random.random(N/2)\n",
    "X_outer = np.concatenate([[R2 * np.cos(theta)], [R2 * np.sin(theta)]]).T\n",
    "\n",
    "X = np.concatenate([ X_inner, X_outer ])\n",
    "Y = np.array([0]*(N/2) + [1]*(N/2))\n",
    "print X.shape\n",
    "print Y.shape"
   ]
  },
  {
   "cell_type": "code",
   "execution_count": 6,
   "metadata": {
    "collapsed": false
   },
   "outputs": [],
   "source": [
    "deep = mamonAnn()\n",
    "LL = []\n",
    "deep.Layers(2 , [8,6 ] , 1)"
   ]
  },
  {
   "cell_type": "code",
   "execution_count": 7,
   "metadata": {
    "collapsed": false
   },
   "outputs": [
    {
     "name": "stdout",
     "output_type": "stream",
     "text": [
      "-704966.945541\n",
      "-694592.729555\n",
      "-696229.411752\n",
      "-699542.01581\n",
      "-702354.288121\n",
      "-703950.60024\n",
      "-710577.873068\n"
     ]
    },
    {
     "ename": "KeyboardInterrupt",
     "evalue": "",
     "output_type": "error",
     "traceback": [
      "\u001b[0;31m---------------------------------------------------------------------------\u001b[0m",
      "\u001b[0;31mKeyboardInterrupt\u001b[0m                         Traceback (most recent call last)",
      "\u001b[0;32m<ipython-input-7-e276a3ce7d4f>\u001b[0m in \u001b[0;36m<module>\u001b[0;34m()\u001b[0m\n\u001b[0;32m----> 1\u001b[0;31m \u001b[0mdeep\u001b[0m\u001b[0;34m.\u001b[0m\u001b[0mfit\u001b[0m\u001b[0;34m(\u001b[0m\u001b[0mX\u001b[0m\u001b[0;34m,\u001b[0m\u001b[0mY\u001b[0m \u001b[0;34m,\u001b[0m \u001b[0;36m4000\u001b[0m \u001b[0;34m,\u001b[0m \u001b[0;36m100\u001b[0m \u001b[0;34m,\u001b[0m  \u001b[0;36m0.00005\u001b[0m \u001b[0;34m,\u001b[0m\u001b[0;36m1\u001b[0m \u001b[0;34m,\u001b[0m \u001b[0;36m0.2\u001b[0m\u001b[0;34m,\u001b[0m\u001b[0;34m'tanh'\u001b[0m\u001b[0;34m,\u001b[0m\u001b[0;34m'tanh'\u001b[0m \u001b[0;34m,\u001b[0m\u001b[0;34m'sigmoid'\u001b[0m \u001b[0;34m,\u001b[0m \u001b[0mLL\u001b[0m\u001b[0;34m,\u001b[0m\u001b[0;36m1\u001b[0m \u001b[0;34m)\u001b[0m\u001b[0;34m\u001b[0m\u001b[0m\n\u001b[0m\u001b[1;32m      2\u001b[0m \u001b[0;34m\u001b[0m\u001b[0m\n\u001b[1;32m      3\u001b[0m \u001b[0mplt\u001b[0m\u001b[0;34m.\u001b[0m\u001b[0mplot\u001b[0m\u001b[0;34m(\u001b[0m\u001b[0mLL\u001b[0m\u001b[0;34m)\u001b[0m\u001b[0;34m\u001b[0m\u001b[0m\n\u001b[1;32m      4\u001b[0m \u001b[0;32mprint\u001b[0m \u001b[0;34m\"final classification rate:\"\u001b[0m\u001b[0;34m,\u001b[0m \u001b[0mnp\u001b[0m\u001b[0;34m.\u001b[0m\u001b[0mmean\u001b[0m\u001b[0;34m(\u001b[0m\u001b[0mdeep\u001b[0m\u001b[0;34m.\u001b[0m\u001b[0mout\u001b[0m\u001b[0;34m.\u001b[0m\u001b[0mround\u001b[0m\u001b[0;34m(\u001b[0m\u001b[0;34m)\u001b[0m \u001b[0;34m==\u001b[0m \u001b[0mY\u001b[0m\u001b[0;34m)\u001b[0m\u001b[0;34m\u001b[0m\u001b[0m\n\u001b[1;32m      5\u001b[0m \u001b[0;34m\u001b[0m\u001b[0m\n",
      "\u001b[0;32m/media/devops/70D01517D014E55E/importent cosrese mamon/deep-learning/1-Nuaral-Network-basic-numpy/8-binary-classification -ANN/mamonAnn.py\u001b[0m in \u001b[0;36mfit\u001b[0;34m(self, X, T, forlong, prnt, lr, batch, reg, factive, mid, last, LL, zerbias)\u001b[0m\n\u001b[1;32m     73\u001b[0m                 \u001b[0mlast_error_rate\u001b[0m \u001b[0;34m=\u001b[0m \u001b[0mer\u001b[0m\u001b[0;34m\u001b[0m\u001b[0m\n\u001b[1;32m     74\u001b[0m             \u001b[0mY_old\u001b[0m \u001b[0;34m=\u001b[0m \u001b[0mself\u001b[0m\u001b[0;34m.\u001b[0m\u001b[0mout\u001b[0m\u001b[0;34m\u001b[0m\u001b[0m\n\u001b[0;32m---> 75\u001b[0;31m             \u001b[0mself\u001b[0m\u001b[0;34m.\u001b[0m\u001b[0mback_train\u001b[0m\u001b[0;34m(\u001b[0m\u001b[0mX\u001b[0m \u001b[0;34m,\u001b[0m \u001b[0mT\u001b[0m\u001b[0;34m,\u001b[0m\u001b[0mlr\u001b[0m \u001b[0;34m,\u001b[0m\u001b[0mreg\u001b[0m \u001b[0;34m,\u001b[0m\u001b[0mfactive\u001b[0m \u001b[0;34m,\u001b[0m \u001b[0mmid\u001b[0m \u001b[0;34m,\u001b[0m \u001b[0mlast\u001b[0m \u001b[0;34m,\u001b[0m\u001b[0mzerbias\u001b[0m\u001b[0;34m)\u001b[0m\u001b[0;34m\u001b[0m\u001b[0m\n\u001b[0m\u001b[1;32m     76\u001b[0m \u001b[0;34m\u001b[0m\u001b[0m\n\u001b[1;32m     77\u001b[0m             \u001b[0;32mif\u001b[0m \u001b[0mtrn\u001b[0m \u001b[0;34m%\u001b[0m \u001b[0mprnt\u001b[0m \u001b[0;34m==\u001b[0m \u001b[0;36m0\u001b[0m\u001b[0;34m:\u001b[0m\u001b[0;34m\u001b[0m\u001b[0m\n",
      "\u001b[0;32m/media/devops/70D01517D014E55E/importent cosrese mamon/deep-learning/1-Nuaral-Network-basic-numpy/8-binary-classification -ANN/mamonAnn.py\u001b[0m in \u001b[0;36mback_train\u001b[0;34m(self, X, T, lr, reg, factive, inneractive, lactive, zerbias)\u001b[0m\n\u001b[1;32m     57\u001b[0m                 \u001b[0mactvite\u001b[0m \u001b[0;34m=\u001b[0m \u001b[0minneractive\u001b[0m\u001b[0;34m\u001b[0m\u001b[0m\n\u001b[1;32m     58\u001b[0m                 \u001b[0min_layer\u001b[0m \u001b[0;34m=\u001b[0m \u001b[0mself\u001b[0m\u001b[0;34m.\u001b[0m\u001b[0mhedins\u001b[0m\u001b[0;34m[\u001b[0m\u001b[0mi\u001b[0m\u001b[0;34m-\u001b[0m\u001b[0;36m1\u001b[0m\u001b[0;34m]\u001b[0m\u001b[0;34m\u001b[0m\u001b[0m\n\u001b[0;32m---> 59\u001b[0;31m             \u001b[0mS_flayer\u001b[0m \u001b[0;34m=\u001b[0m \u001b[0mS_anylayer\u001b[0m\u001b[0;34m(\u001b[0m\u001b[0mself\u001b[0m\u001b[0;34m.\u001b[0m\u001b[0mhedins\u001b[0m\u001b[0;34m[\u001b[0m\u001b[0mi\u001b[0m\u001b[0;34m]\u001b[0m \u001b[0;34m,\u001b[0m \u001b[0mW2\u001b[0m \u001b[0;34m,\u001b[0m \u001b[0mS_y\u001b[0m \u001b[0;34m,\u001b[0m \u001b[0mactvite\u001b[0m \u001b[0;34m,\u001b[0m \u001b[0mprev_layer\u001b[0m\u001b[0;34m)\u001b[0m\u001b[0;34m\u001b[0m\u001b[0m\n\u001b[0m\u001b[1;32m     60\u001b[0m             \u001b[0mself\u001b[0m\u001b[0;34m.\u001b[0m\u001b[0mW\u001b[0m\u001b[0;34m[\u001b[0m\u001b[0mi\u001b[0m\u001b[0;34m]\u001b[0m \u001b[0;34m+=\u001b[0m \u001b[0mlr\u001b[0m \u001b[0;34m*\u001b[0m\u001b[0;34m(\u001b[0m\u001b[0min_layer\u001b[0m\u001b[0;34m.\u001b[0m\u001b[0mT\u001b[0m\u001b[0;34m.\u001b[0m\u001b[0mdot\u001b[0m\u001b[0;34m(\u001b[0m\u001b[0mS_flayer\u001b[0m\u001b[0;34m)\u001b[0m  \u001b[0;34m-\u001b[0m\u001b[0;34m(\u001b[0m \u001b[0mregularization\u001b[0m \u001b[0;34m*\u001b[0m \u001b[0mself\u001b[0m\u001b[0;34m.\u001b[0m\u001b[0mW\u001b[0m\u001b[0;34m[\u001b[0m\u001b[0mi\u001b[0m\u001b[0;34m]\u001b[0m \u001b[0;34m)\u001b[0m \u001b[0;34m)\u001b[0m\u001b[0;31m#delta_Fast(lr ,T , self.out , in_layer, 'any' ,  self.hedins[i] , W2)\u001b[0m\u001b[0;34m\u001b[0m\u001b[0m\n\u001b[1;32m     61\u001b[0m             \u001b[0mself\u001b[0m\u001b[0;34m.\u001b[0m\u001b[0mb\u001b[0m\u001b[0;34m[\u001b[0m\u001b[0mi\u001b[0m\u001b[0;34m]\u001b[0m \u001b[0;34m+=\u001b[0m \u001b[0mlr\u001b[0m\u001b[0;34m*\u001b[0m\u001b[0;34m(\u001b[0m\u001b[0mS_flayer\u001b[0m\u001b[0;34m.\u001b[0m\u001b[0msum\u001b[0m\u001b[0;34m(\u001b[0m\u001b[0maxis\u001b[0m\u001b[0;34m=\u001b[0m\u001b[0;36m0\u001b[0m\u001b[0;34m)\u001b[0m  \u001b[0;34m-\u001b[0m \u001b[0mregularization\u001b[0m \u001b[0;34m*\u001b[0m \u001b[0mself\u001b[0m\u001b[0;34m.\u001b[0m\u001b[0mb\u001b[0m\u001b[0;34m[\u001b[0m\u001b[0mi\u001b[0m\u001b[0;34m]\u001b[0m  \u001b[0;34m)\u001b[0m \u001b[0;34m*\u001b[0m \u001b[0mzerbias\u001b[0m\u001b[0;34m\u001b[0m\u001b[0m\n",
      "\u001b[0;32m/media/devops/70D01517D014E55E/importent cosrese mamon/deep-learning/1-Nuaral-Network-basic-numpy/8-binary-classification -ANN/mamonAnn.py\u001b[0m in \u001b[0;36mS_anylayer\u001b[0;34m(layer, layer_w, next_s, actvite, prev_layer)\u001b[0m\n\u001b[1;32m    126\u001b[0m                     \u001b[0mdos\u001b[0m \u001b[0;34m=\u001b[0m \u001b[0mlayer_w\u001b[0m\u001b[0;34m[\u001b[0m\u001b[0mi\u001b[0m\u001b[0;34m,\u001b[0m\u001b[0mj\u001b[0m\u001b[0;34m]\u001b[0m \u001b[0;34m*\u001b[0m   \u001b[0mnext_s\u001b[0m\u001b[0;34m[\u001b[0m\u001b[0mk\u001b[0m\u001b[0;34m,\u001b[0m\u001b[0mj\u001b[0m\u001b[0;34m]\u001b[0m\u001b[0;34m\u001b[0m\u001b[0m\n\u001b[1;32m    127\u001b[0m                     \u001b[0mcoz\u001b[0m \u001b[0;34m=\u001b[0m \u001b[0mdos\u001b[0m \u001b[0;34m+\u001b[0m \u001b[0mS\u001b[0m\u001b[0;34m[\u001b[0m\u001b[0mk\u001b[0m\u001b[0;34m,\u001b[0m\u001b[0mi\u001b[0m\u001b[0;34m]\u001b[0m\u001b[0;34m\u001b[0m\u001b[0m\n\u001b[0;32m--> 128\u001b[0;31m                     \u001b[0mS\u001b[0m\u001b[0;34m[\u001b[0m\u001b[0mk\u001b[0m\u001b[0;34m,\u001b[0m\u001b[0mi\u001b[0m\u001b[0;34m]\u001b[0m \u001b[0;34m=\u001b[0m \u001b[0mcoz\u001b[0m\u001b[0;34m\u001b[0m\u001b[0m\n\u001b[0m\u001b[1;32m    129\u001b[0m                 \u001b[0mjoso\u001b[0m \u001b[0;34m=\u001b[0m \u001b[0mS\u001b[0m\u001b[0;34m[\u001b[0m\u001b[0mk\u001b[0m\u001b[0;34m,\u001b[0m\u001b[0mi\u001b[0m\u001b[0;34m]\u001b[0m \u001b[0;34m*\u001b[0m \u001b[0mF_hate\u001b[0m\u001b[0;34m(\u001b[0m\u001b[0mlayer\u001b[0m\u001b[0;34m[\u001b[0m\u001b[0mk\u001b[0m\u001b[0;34m,\u001b[0m\u001b[0mi\u001b[0m\u001b[0;34m]\u001b[0m\u001b[0;34m,\u001b[0m\u001b[0mactvite\u001b[0m\u001b[0;34m)\u001b[0m\u001b[0;34m\u001b[0m\u001b[0m\n\u001b[1;32m    130\u001b[0m                 \u001b[0mS\u001b[0m\u001b[0;34m[\u001b[0m\u001b[0mk\u001b[0m\u001b[0;34m,\u001b[0m\u001b[0mi\u001b[0m\u001b[0;34m]\u001b[0m \u001b[0;34m=\u001b[0m \u001b[0mjoso\u001b[0m\u001b[0;34m\u001b[0m\u001b[0m\n",
      "\u001b[0;31mKeyboardInterrupt\u001b[0m: "
     ]
    }
   ],
   "source": [
    "deep.fit(X,Y , 400 , 100 ,  0.00005 ,1 , 0.2,'tanh','tanh' ,'sigmoid' , LL,1 )\n",
    "\n",
    "plt.plot(LL)\n",
    "print \"final classification rate:\", np.mean(deep.out.round() == Y)\n",
    "\n",
    "plt.show()"
   ]
  },
  {
   "cell_type": "code",
   "execution_count": null,
   "metadata": {
    "collapsed": false
   },
   "outputs": [],
   "source": [
    "deep.out.round()"
   ]
  },
  {
   "cell_type": "code",
   "execution_count": null,
   "metadata": {
    "collapsed": true
   },
   "outputs": [],
   "source": []
  },
  {
   "cell_type": "code",
   "execution_count": null,
   "metadata": {
    "collapsed": false
   },
   "outputs": [],
   "source": []
  },
  {
   "cell_type": "code",
   "execution_count": null,
   "metadata": {
    "collapsed": false
   },
   "outputs": [],
   "source": []
  },
  {
   "cell_type": "code",
   "execution_count": null,
   "metadata": {
    "collapsed": false
   },
   "outputs": [],
   "source": []
  },
  {
   "cell_type": "code",
   "execution_count": null,
   "metadata": {
    "collapsed": false
   },
   "outputs": [],
   "source": []
  },
  {
   "cell_type": "code",
   "execution_count": null,
   "metadata": {
    "collapsed": false
   },
   "outputs": [],
   "source": []
  },
  {
   "cell_type": "code",
   "execution_count": null,
   "metadata": {
    "collapsed": false
   },
   "outputs": [],
   "source": [
    "\n",
    "\n",
    "pY, Z = forward(X_real , W1, b1, W2, b2)\n",
    "\n",
    "cpredict = cross_entropy(Yreal_ind, pY)\n",
    "\n",
    "print  cpredict\n",
    "\n",
    "print \"classification_rate:\", classification_rate(y_real, predict(pY))"
   ]
  },
  {
   "cell_type": "code",
   "execution_count": null,
   "metadata": {
    "collapsed": false
   },
   "outputs": [],
   "source": [
    "\n"
   ]
  },
  {
   "cell_type": "code",
   "execution_count": null,
   "metadata": {
    "collapsed": false
   },
   "outputs": [],
   "source": []
  },
  {
   "cell_type": "code",
   "execution_count": null,
   "metadata": {
    "collapsed": false
   },
   "outputs": [],
   "source": [
    "y_real_pred = classifier.predict(X_real)\n",
    "fig = plt.figure()\n",
    "fig.set_size_inches(98.5, 90.5)\n",
    "ax = fig.add_subplot(999, projection='3d')\n",
    "i=0\n",
    "for g , xs ,ys , zs , en , en2 in X_real:\n",
    "    c = y_real[i]\n",
    "    if c == 1:\n",
    "        cc='blue'  #servive\n",
    "    else:\n",
    "        cc='red'  #died\n",
    "    if g == 1:\n",
    "        m = \"^\"   # male\n",
    "    else:\n",
    "        m = \"v\"   #famle\n",
    "    if y_real_pred[i] == y_real[i]:\n",
    "        if y_real_pred[i] == 1:\n",
    "            cc = 'green'\n",
    "        else:\n",
    "            cc = 'yellow'\n",
    "        m = \"+\"\n",
    "    i +=1\n",
    "    \n",
    "    ax.scatter(xs, ys, zs , c=cc , marker=m )\n",
    "\n",
    "ax.set_xlabel('class')\n",
    "ax.set_ylabel('sibsp')\n",
    "ax.set_zlabel('age')\n",
    "plt.show()"
   ]
  },
  {
   "cell_type": "code",
   "execution_count": null,
   "metadata": {
    "collapsed": false
   },
   "outputs": [],
   "source": [
    "getscore(y_real,y_real_pred)"
   ]
  },
  {
   "cell_type": "code",
   "execution_count": null,
   "metadata": {
    "collapsed": false
   },
   "outputs": [],
   "source": [
    "from sklearn.metrics import confusion_matrix\n",
    "cm = confusion_matrix(y_test, y_pred)\n",
    "cm"
   ]
  },
  {
   "cell_type": "code",
   "execution_count": null,
   "metadata": {
    "collapsed": false
   },
   "outputs": [],
   "source": [
    "ids = realdata.iloc[:, 0].values\n",
    "mamon_predcation = np.vstack((ids, y_real_pred)).T\n",
    "np.savetxt(\"mamonfinale-81.csv\", mamon_predcation, delimiter=\",\")"
   ]
  },
  {
   "cell_type": "code",
   "execution_count": null,
   "metadata": {
    "collapsed": false
   },
   "outputs": [],
   "source": [
    "print Y.shape"
   ]
  },
  {
   "cell_type": "code",
   "execution_count": null,
   "metadata": {
    "collapsed": true
   },
   "outputs": [],
   "source": []
  }
 ],
 "metadata": {
  "kernelspec": {
   "display_name": "Python 2",
   "language": "python",
   "name": "python2"
  },
  "language_info": {
   "codemirror_mode": {
    "name": "ipython",
    "version": 2
   },
   "file_extension": ".py",
   "mimetype": "text/x-python",
   "name": "python",
   "nbconvert_exporter": "python",
   "pygments_lexer": "ipython2",
   "version": "2.7.12"
  }
 },
 "nbformat": 4,
 "nbformat_minor": 2
}
